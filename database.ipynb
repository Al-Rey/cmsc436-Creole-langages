{
 "cells": [
  {
   "cell_type": "code",
   "execution_count": 39,
   "metadata": {},
   "outputs": [],
   "source": [
    "import sqlite3\n",
    "import csv\n",
    "conn = sqlite3.connect('DB.db')\n",
    "c = conn.cursor()\n",
    "\n",
    "droppings =  \"\"\"DROP TABLE IF EXISTS country;\"\"\"\n",
    "c.execute(droppings)\n",
    "droppings =  \"\"\"DROP TABLE IF EXISTS word;\"\"\"\n",
    "c.execute(droppings)\n",
    "\n",
    "country = \"\"\" CREATE TABLE IF NOT EXISTS country(\n",
    "            country_name VARCHAR(255) PRIMARY KEY,\n",
    "            acrolect VARCHAR(255)  ,\n",
    "            basilect VARCHAR(255) ,\n",
    "            latitude REAL,\n",
    "            longitude REAL\n",
    ");\"\"\"\n",
    "\n",
    "word = \"\"\"CREATE TABLE IF NOT EXISTS word(\n",
    "            word VARCHAR(255) PRIMARY KEY,\n",
    "            meaning VARCHAR(255) NOT NULL ,\n",
    "            variation VARCHAR(255) ,\n",
    "            form VARCHAR(255) NOT NULL,\n",
    "            country_name VARCHAR(255),\n",
    "            FOREIGN KEY(country_name) REFERENCES country(country_name)\n",
    ");\"\"\"\n",
    "c.execute(country)\n",
    "c.execute(word)\n",
    "\n",
    "file = open('langugue.csv')\n",
    "languages = csv.reader(file)\n",
    "insert_records = \"INSERT INTO country (country_name,acrolect,basilect,latitude,longitude) VALUES(?, ?,?,?,?)\"\n",
    " \n",
    "c.executemany(insert_records, languages)\n",
    "\n",
    "conn.commit()\n",
    "conn.close()\n"
   ]
  }
 ],
 "metadata": {
  "kernelspec": {
   "display_name": "Python 3.8.10 64-bit",
   "language": "python",
   "name": "python3"
  },
  "language_info": {
   "codemirror_mode": {
    "name": "ipython",
    "version": 3
   },
   "file_extension": ".py",
   "mimetype": "text/x-python",
   "name": "python",
   "nbconvert_exporter": "python",
   "pygments_lexer": "ipython3",
   "version": "3.8.10"
  },
  "orig_nbformat": 4,
  "vscode": {
   "interpreter": {
    "hash": "916dbcbb3f70747c44a77c7bcd40155683ae19c65e1c03b4aa3499c5328201f1"
   }
  }
 },
 "nbformat": 4,
 "nbformat_minor": 2
}
