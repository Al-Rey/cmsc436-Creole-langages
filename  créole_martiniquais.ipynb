{
 "cells": [
  {
   "cell_type": "code",
   "execution_count": 2,
   "metadata": {},
   "outputs": [],
   "source": [
    "import pandas as pd\n",
    "from urllib import request\n",
    "from bs4 import BeautifulSoup"
   ]
  },
  {
   "cell_type": "code",
   "execution_count": 6,
   "metadata": {},
   "outputs": [],
   "source": [
    "\n",
    "def getscrape(url,coding):\n",
    "    response = request.urlopen(url).read().decode(coding)\n",
    "    raw = BeautifulSoup(response, 'html.parser')\n",
    "    return raw"
   ]
  },
  {
   "cell_type": "code",
   "execution_count": 29,
   "metadata": {},
   "outputs": [],
   "source": [
    "def getelement(raw,element,attri1, attri2):\n",
    "    setraw = \"\"\n",
    "    if(attri1 == None):\n",
    "        setraw = str(raw.find_all(element))\n",
    "    else:\n",
    "        setraw = str(raw.find_all(element,attrs={attri1:attri2}))\n",
    "    return setraw\n"
   ]
  },
  {
   "cell_type": "code",
   "execution_count": 48,
   "metadata": {},
   "outputs": [],
   "source": [
    "def martiniqueCreole():\n",
    "    martinique = getscrape(\"https://www.potomitan.info/dictionnaire/francais.php\",'ISO-8859-1')\n",
    "    martinique = getelement(martinique,'p',None,None)\n",
    "    martinique = martinique.split(\"<br/>\")\n",
    "    martinique.pop(0)\n",
    "    Clean = []\n",
    "    for x in range(0,len(martinique)):\n",
    "        if \"</p>, <p>\" in martinique[x]:\n",
    "            l = martinique[x].split(\"</p>, <p>\")\n",
    "            martinique[x] = l[0]\n",
    "            Clean.append(l[1])\n",
    "    Clean = Clean[0:21]\n",
    "    martinique = martinique[0:621]\n",
    "\n",
    "    for x in Clean:\n",
    "        martinique.append(x)\n",
    "    return martinique"
   ]
  },
  {
   "cell_type": "code",
   "execution_count": 57,
   "metadata": {},
   "outputs": [
    {
     "data": {
      "text/html": [
       "<div>\n",
       "<style scoped>\n",
       "    .dataframe tbody tr th:only-of-type {\n",
       "        vertical-align: middle;\n",
       "    }\n",
       "\n",
       "    .dataframe tbody tr th {\n",
       "        vertical-align: top;\n",
       "    }\n",
       "\n",
       "    .dataframe thead th {\n",
       "        text-align: right;\n",
       "    }\n",
       "</style>\n",
       "<table border=\"1\" class=\"dataframe\">\n",
       "  <thead>\n",
       "    <tr style=\"text-align: right;\">\n",
       "      <th></th>\n",
       "      <th>Acrolect</th>\n",
       "      <th>Creole_word</th>\n",
       "      <th>Creole_name</th>\n",
       "    </tr>\n",
       "  </thead>\n",
       "  <tbody>\n",
       "    <tr>\n",
       "      <th>0</th>\n",
       "      <td>accelérer</td>\n",
       "      <td>akséléré, pilé</td>\n",
       "      <td>Martinique</td>\n",
       "    </tr>\n",
       "    <tr>\n",
       "      <th>1</th>\n",
       "      <td>accélérateur</td>\n",
       "      <td>aksélératè</td>\n",
       "      <td>Martinique</td>\n",
       "    </tr>\n",
       "    <tr>\n",
       "      <th>2</th>\n",
       "      <td>acheter</td>\n",
       "      <td>genyen, achté</td>\n",
       "      <td>Martinique</td>\n",
       "    </tr>\n",
       "    <tr>\n",
       "      <th>3</th>\n",
       "      <td>acteur</td>\n",
       "      <td>aktè</td>\n",
       "      <td>Martinique</td>\n",
       "    </tr>\n",
       "    <tr>\n",
       "      <th>4</th>\n",
       "      <td>action</td>\n",
       "      <td>aksyon</td>\n",
       "      <td>Martinique</td>\n",
       "    </tr>\n",
       "    <tr>\n",
       "      <th>...</th>\n",
       "      <td>...</td>\n",
       "      <td>...</td>\n",
       "      <td>...</td>\n",
       "    </tr>\n",
       "    <tr>\n",
       "      <th>635</th>\n",
       "      <td>raccourci</td>\n",
       "      <td>chimen-dékoupé</td>\n",
       "      <td>Martinique</td>\n",
       "    </tr>\n",
       "    <tr>\n",
       "      <th>636</th>\n",
       "      <td>saler</td>\n",
       "      <td>salé</td>\n",
       "      <td>Martinique</td>\n",
       "    </tr>\n",
       "    <tr>\n",
       "      <th>637</th>\n",
       "      <td>tacot</td>\n",
       "      <td>bradjak</td>\n",
       "      <td>Martinique</td>\n",
       "    </tr>\n",
       "    <tr>\n",
       "      <th>638</th>\n",
       "      <td>un</td>\n",
       "      <td>yonn</td>\n",
       "      <td>Martinique</td>\n",
       "    </tr>\n",
       "    <tr>\n",
       "      <th>639</th>\n",
       "      <td>varech</td>\n",
       "      <td>wawèt</td>\n",
       "      <td>Martinique</td>\n",
       "    </tr>\n",
       "  </tbody>\n",
       "</table>\n",
       "<p>640 rows × 3 columns</p>\n",
       "</div>"
      ],
      "text/plain": [
       "         Acrolect       Creole_word Creole_name\n",
       "0       accelérer   akséléré, pilé   Martinique\n",
       "1    accélérateur       aksélératè   Martinique\n",
       "2         acheter    genyen, achté   Martinique\n",
       "3          acteur             aktè   Martinique\n",
       "4          action           aksyon   Martinique\n",
       "..            ...               ...         ...\n",
       "635     raccourci   chimen-dékoupé   Martinique\n",
       "636         saler             salé   Martinique\n",
       "637         tacot          bradjak   Martinique\n",
       "638           un              yonn   Martinique\n",
       "639        varech            wawèt   Martinique\n",
       "\n",
       "[640 rows x 3 columns]"
      ]
     },
     "execution_count": 57,
     "metadata": {},
     "output_type": "execute_result"
    }
   ],
   "source": [
    "martinique = martiniqueCreole()\n",
    "french = []\n",
    "creole = []\n",
    "name = []\n",
    "for x in martinique:\n",
    "    l = x.split(':')\n",
    "    if x != '\\n':\n",
    "        french.append(l[0].strip('\\n                  '))\n",
    "        creole.append(l[1])\n",
    "        name.append(\"Martinique\")\n",
    "df = pd.DataFrame()\n",
    "df['Acrolect'] = french\n",
    "df['Creole_word'] = creole\n",
    "df['Creole_name'] = name\n",
    "df"
   ]
  },
  {
   "cell_type": "code",
   "execution_count": 58,
   "metadata": {},
   "outputs": [],
   "source": [
    "df.to_csv(\"Excelmartinique.csv\")"
   ]
  }
 ],
 "metadata": {
  "kernelspec": {
   "display_name": "Python 3.10.6 64-bit",
   "language": "python",
   "name": "python3"
  },
  "language_info": {
   "codemirror_mode": {
    "name": "ipython",
    "version": 3
   },
   "file_extension": ".py",
   "mimetype": "text/x-python",
   "name": "python",
   "nbconvert_exporter": "python",
   "pygments_lexer": "ipython3",
   "version": "3.10.6"
  },
  "orig_nbformat": 4,
  "vscode": {
   "interpreter": {
    "hash": "916dbcbb3f70747c44a77c7bcd40155683ae19c65e1c03b4aa3499c5328201f1"
   }
  }
 },
 "nbformat": 4,
 "nbformat_minor": 2
}
