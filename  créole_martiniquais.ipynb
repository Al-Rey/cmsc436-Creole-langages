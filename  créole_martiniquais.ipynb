{
 "cells": [
  {
   "cell_type": "code",
   "execution_count": 1,
   "metadata": {},
   "outputs": [],
   "source": [
    "import pandas as pd\n",
    "#from urllib import request\n",
    "from urllib.request import urlopen,Request\n",
    "from bs4 import BeautifulSoup"
   ]
  },
  {
   "cell_type": "code",
   "execution_count": 2,
   "metadata": {},
   "outputs": [],
   "source": [
    "alphabet = ['a','b','c','d','e','f','g','h','i','j','k','l','m','n','o','p','q','r','s','t','u','v','w','x','y','z']\n",
    "def getscrape(url,coding):\n",
    "    response = Request(url,headers={'User-Agent': 'Mozilla/5.0'})\n",
    "    raw = urlopen(response).read()\n",
    "    raw= raw.decode(coding)\n",
    "    raw = BeautifulSoup(raw, 'html.parser')\n",
    "    return raw"
   ]
  },
  {
   "cell_type": "code",
   "execution_count": 3,
   "metadata": {},
   "outputs": [],
   "source": [
    "def getelement(raw,element,attri1, attri2):\n",
    "    setraw = \"\"\n",
    "    if(attri1 == None):\n",
    "        setraw = str(raw.find_all(element))\n",
    "    else:\n",
    "        setraw = str(raw.find_all(element,attrs={attri1:attri2}))\n",
    "    return setraw\n"
   ]
  },
  {
   "cell_type": "code",
   "execution_count": 4,
   "metadata": {},
   "outputs": [],
   "source": [
    "def martiniqueCreole():\n",
    "    martinique = getscrape(\"https://www.potomitan.info/dictionnaire/francais.php\",'ISO-8859-1')\n",
    "    martinique = getelement(martinique,'p',None,None)\n",
    "    martinique = martinique.split(\"<br/>\")\n",
    "    martinique.pop(0)\n",
    "    Clean = []\n",
    "    for x in range(0,len(martinique)):\n",
    "        if \"</p>, <p>\" in martinique[x]:\n",
    "            l = martinique[x].split(\"</p>, <p>\")\n",
    "            martinique[x] = l[0]\n",
    "            Clean.append(l[1])\n",
    "    Clean = Clean[0:21]\n",
    "    martinique = martinique[0:621]\n",
    "\n",
    "    for x in Clean:\n",
    "        martinique.append(x)\n",
    "    return martinique"
   ]
  },
  {
   "cell_type": "code",
   "execution_count": 5,
   "metadata": {},
   "outputs": [],
   "source": [
    "martinique = martiniqueCreole()\n",
    "french = []\n",
    "creole = []\n",
    "name = []\n",
    "for x in martinique:\n",
    "    l = x.split(':')\n",
    "    if x != '\\n':\n",
    "        french.append(l[0].strip('\\n                  '))\n",
    "        creole.append(l[1])\n",
    "        name.append(\"Martinique\")\n",
    "df = pd.DataFrame()\n",
    "df['Acrolect'] = french\n",
    "df['Creole_word'] = creole\n",
    "df['Creole_name'] = name\n",
    "#df.to_csv(\"Excelmartinique.csv\")"
   ]
  },
  {
   "cell_type": "code",
   "execution_count": 39,
   "metadata": {},
   "outputs": [],
   "source": [
    "defandWord = pd.DataFrame(columns=['Creole_word','Definition'])\n",
    "def stLucia():\n",
    "    word = []\n",
    "    defi = []\n",
    "    links = []\n",
    "    for x in alphabet:\n",
    "        a = 'https://www.webonary.org/kweyol/browse/kweyol-english/?letter='+x+'&key=acf&lang=fr'\n",
    "        Lucia =  getscrape(a,'utf8')\n",
    "        l = str(getelement(Lucia,'div','id','wp_page_numbers'))\n",
    "        if len(l) == 0:\n",
    "            links.append(a)\n",
    "        else:\n",
    "            temp = []\n",
    "            m = l.replace(\"</a></li>\",'').replace(\"<a href=\",'').split(\"<li>\")\n",
    "            for y in m:\n",
    "                if \"page_info\" not in y and \"</div>\" not in y:\n",
    "                    temp.append(y)\n",
    "            r = temp.pop(-1)\n",
    "            r = r.split(\"amp;\")\n",
    "            if r[-1][-3:-1] != \"[\":\n",
    "                c = int(r[-1][-3:-1].replace('>',''))\n",
    "                for n in range(1,(c+1)):\n",
    "                    i = 'https://www.webonary.org/kweyol/browse/kweyol-english/'+r[0][1:]+r[1]+r[2]+\"pagenr=\"+str(n)+\"&\"+r[3][:-1]\n",
    "                    links.append(i)\n",
    "    \n",
    "    for x in links:\n",
    "        luciaW = getscrape(x,'utf8')\n",
    "        w = str(getelement(luciaW,'div','class','post')).split(\"<html>\")\n",
    "        for y in w:\n",
    "            if \"definitionorgloss\" in y:\n",
    "                m = y.split(\"<span\")\n",
    "                l = []\n",
    "                l2 = []\n",
    "                v = \"\"\n",
    "                dict1 = {}\n",
    "                for p in m:\n",
    "                    if \"lang=\\\"acf\\\"><a\" in p:\n",
    "                        z = p.split(\"?lang=fr\\\">\")\n",
    "                        z.pop(0)\n",
    "                        z = z[0].split(\"</a>\")\n",
    "                        l.append(z[0])\n",
    "                    if \"lang=\\\"en\\\"\" in p:\n",
    "                        z = p.split(\"</\")\n",
    "                        if len(z) == 3:\n",
    "                            z = z[0].replace(\" lang=\\\"en\\\">\",'')\n",
    "                            if z != \"cond. var.\" and z != \"syn\" and z != \" \":\n",
    "                                l2.append(z)\n",
    "                defi.append(','.join(l2))\n",
    "                word.append(','.join(l))\n",
    "                \n",
    "    defandWord['Creole_word'] = word\n",
    "    defandWord['Definition'] = defi\n",
    "\n",
    "\n",
    "    #print(defandWord)"
   ]
  },
  {
   "cell_type": "code",
   "execution_count": 41,
   "metadata": {},
   "outputs": [],
   "source": [
    "stLucia()\n",
    "#this csv is not perfect have to make correction in excel sheets.\n",
    "#defandWord.to_csv(\"stLucia.csv\")"
   ]
  }
 ],
 "metadata": {
  "kernelspec": {
   "display_name": "Python 3.10.6 64-bit",
   "language": "python",
   "name": "python3"
  },
  "language_info": {
   "codemirror_mode": {
    "name": "ipython",
    "version": 3
   },
   "file_extension": ".py",
   "mimetype": "text/x-python",
   "name": "python",
   "nbconvert_exporter": "python",
   "pygments_lexer": "ipython3",
   "version": "3.10.6"
  },
  "orig_nbformat": 4,
  "vscode": {
   "interpreter": {
    "hash": "916dbcbb3f70747c44a77c7bcd40155683ae19c65e1c03b4aa3499c5328201f1"
   }
  }
 },
 "nbformat": 4,
 "nbformat_minor": 2
}
