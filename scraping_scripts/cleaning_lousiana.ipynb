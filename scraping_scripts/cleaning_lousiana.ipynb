{
 "cells": [
  {
   "cell_type": "markdown",
   "metadata": {},
   "source": [
    "This notebook is made to scrape langauge data for the site to get Loisiana Creole.\n",
    "\n",
    "Link to the cite: https://www.webonary.org/louisiana-creole/browse/browse-vernacular/?letter=a&key=lou"
   ]
  },
  {
   "cell_type": "code",
   "execution_count": 1,
   "metadata": {},
   "outputs": [],
   "source": [
    "# Libarries\n",
    "import requests\n",
    "import pandas as pd\n",
    "import re\n",
    "\n",
    "from bs4 import BeautifulSoup"
   ]
  },
  {
   "cell_type": "markdown",
   "metadata": {},
   "source": [
    "# Testing\n",
    "This section is only for experimenting with the parsing and trying to figure out a plan of attack for pulling and extracting the data."
   ]
  },
  {
   "cell_type": "code",
   "execution_count": 81,
   "metadata": {},
   "outputs": [],
   "source": [
    "#link example: https://www.webonary.org/louisiana-creole/browse/browse-vernacular/?letter=a&key=lou\n",
    "letters = \"abcdefghijklmnoprstvwyz\" # there were no pages for q, u, or x\n",
    "raw_page = requests.get(\"https://www.webonary.org/louisiana-creole/browse/browse-vernacular/?letter=a&key=lou\")\n",
    "soup = BeautifulSoup(raw_page.content, 'html5lib')\n",
    "# soup.prettify()"
   ]
  },
  {
   "cell_type": "code",
   "execution_count": 84,
   "metadata": {},
   "outputs": [
    {
     "name": "stdout",
     "output_type": "stream",
     "text": [
      "length of table: 25\n",
      "length of entry: 13\n",
      "items in entry\n",
      "<span class=\"mainheadword\"><span lang=\"lou\"><span lang=\"lou\"><a href=\"https://www.webonary.org/louisiana-creole/g8dfd260c-b1d4-434d-9a73-676be411e12a\">a</a></span><span lang=\"lou\" style=\"font-weight:bold;font-size:58%;position:relative;top:0.3em;\"><a href=\"https://www.webonary.org/louisiana-creole/g8dfd260c-b1d4-434d-9a73-676be411e12a\">1</a></span></span></span> ( False ) ( None )\n",
      "\n",
      "<span lang=\"lou\"><span lang=\"lou\"><a href=\"https://www.webonary.org/louisiana-creole/g8dfd260c-b1d4-434d-9a73-676be411e12a\">a</a></span><span lang=\"lou\" style=\"font-weight:bold;font-size:58%;position:relative;top:0.3em;\"><a href=\"https://www.webonary.org/louisiana-creole/g8dfd260c-b1d4-434d-9a73-676be411e12a\">1</a></span></span> ( True ) ( None )\n",
      "\n",
      "<span lang=\"lou\"><a href=\"https://www.webonary.org/louisiana-creole/g8dfd260c-b1d4-434d-9a73-676be411e12a\">a</a></span> ( True ) ( a )\n",
      "\n",
      "<span lang=\"lou\" style=\"font-weight:bold;font-size:58%;position:relative;top:0.3em;\"><a href=\"https://www.webonary.org/louisiana-creole/g8dfd260c-b1d4-434d-9a73-676be411e12a\">1</a></span> ( True ) ( 1 )\n",
      "\n",
      "<span class=\"senses\"><span class=\"sharedgrammaticalinfo\"><span class=\"morphosyntaxanalysis\"><span class=\"partofspeech\"><span lang=\"en\">aux</span></span></span></span><span class=\"sensecontent\"><span class=\"sense\" entryguid=\"g8dfd260c-b1d4-434d-9a73-676be411e12a\"><span class=\"definitionorgloss\"><span lang=\"en\">future marker</span></span></span></span></span> ( False ) ( None )\n",
      "\n",
      "<span class=\"sharedgrammaticalinfo\"><span class=\"morphosyntaxanalysis\"><span class=\"partofspeech\"><span lang=\"en\">aux</span></span></span></span> ( False ) ( aux )\n",
      "\n",
      "<span class=\"morphosyntaxanalysis\"><span class=\"partofspeech\"><span lang=\"en\">aux</span></span></span> ( False ) ( aux )\n",
      "\n",
      "<span class=\"partofspeech\"><span lang=\"en\">aux</span></span> ( False ) ( aux )\n",
      "\n",
      "<span lang=\"en\">aux</span> ( True ) ( aux )\n",
      "\n",
      "<span class=\"sensecontent\"><span class=\"sense\" entryguid=\"g8dfd260c-b1d4-434d-9a73-676be411e12a\"><span class=\"definitionorgloss\"><span lang=\"en\">future marker</span></span></span></span> ( False ) ( future marker )\n",
      "\n",
      "<span class=\"sense\" entryguid=\"g8dfd260c-b1d4-434d-9a73-676be411e12a\"><span class=\"definitionorgloss\"><span lang=\"en\">future marker</span></span></span> ( False ) ( future marker )\n",
      "\n",
      "<span class=\"definitionorgloss\"><span lang=\"en\">future marker</span></span> ( False ) ( future marker )\n",
      "\n",
      "<span lang=\"en\">future marker</span> ( True ) ( future marker )\n",
      "\n"
     ]
    }
   ],
   "source": [
    "table = soup.find_all('div', attrs={\"class\":\"entry\"})\n",
    "print(\"length of table:\", len(table)) \n",
    "entry = table[0].find_all(\"span\")\n",
    "print(\"length of entry:\", len(entry))\n",
    "print(\"items in entry\")\n",
    "for item in entry:\n",
    "    # if item.has_attr(\"class\"):\n",
    "    #     print(item, end=\"\\n\\n\")\n",
    "    print(item, \"(\", item.has_attr(\"lang\"), \")\", \"(\", item.string, \")\", end=\"\\n\\n\")"
   ]
  },
  {
   "cell_type": "code",
   "execution_count": 55,
   "metadata": {},
   "outputs": [
    {
     "data": {
      "text/plain": [
       "'lou'"
      ]
     },
     "execution_count": 55,
     "metadata": {},
     "output_type": "execute_result"
    }
   ],
   "source": [
    "entry[0][\"lang\"]"
   ]
  }
 ],
 "metadata": {
  "kernelspec": {
   "display_name": "Python 3.10.6 ('cmsc636')",
   "language": "python",
   "name": "python3"
  },
  "language_info": {
   "codemirror_mode": {
    "name": "ipython",
    "version": 3
   },
   "file_extension": ".py",
   "mimetype": "text/x-python",
   "name": "python",
   "nbconvert_exporter": "python",
   "pygments_lexer": "ipython3",
   "version": "3.10.6"
  },
  "orig_nbformat": 4,
  "vscode": {
   "interpreter": {
    "hash": "d789b9f0c1901fa8f70cd02c86bda49460a471f5f241b4d6cb00ad9ab8df8402"
   }
  }
 },
 "nbformat": 4,
 "nbformat_minor": 2
}
